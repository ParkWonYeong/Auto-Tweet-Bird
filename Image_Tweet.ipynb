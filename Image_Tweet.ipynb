{
 "cells": [
  {
   "cell_type": "code",
   "execution_count": null,
   "id": "366db5d9",
   "metadata": {},
   "outputs": [],
   "source": [
    "import tweepy\n",
    "from time import sleep\n",
    "import time\n",
    "from tweepy.models import Media\n",
    "from access import * #import Twitter API from access.py\n",
    "from googlesheet_Tweet import * #call googlesheet\n",
    "from time import process_time\n",
    "from urllib.parse import scheme_chars\n",
    "from twython import Twython\n",
    "\n",
    "sleep_on_rate_limit=False \n",
    "\n",
    "#Image_tweet\n",
    "media = api.media_upload(\"_.png\") #image file name\n",
    "cell_data = worksheet.acell('C3').value #Excel\n",
    "print(cell_data)\n",
    "api.update_status(cell_data, media_ids=[media.media_id])\n",
    "time.sleep(40)\n",
    "\n",
    "# Tweet that disclude image\n",
    "cell_data = worksheet.acell('C4').value #written tweet excel \n",
    "print(cell_data)\n",
    "api.update_status(cell_data)\n",
    "time.sleep(40)\n",
    "\n",
    "# ...\n",
    "\n"
   ]
  }
 ],
 "metadata": {
  "kernelspec": {
   "display_name": "Python 3",
   "language": "python",
   "name": "python3"
  },
  "language_info": {
   "codemirror_mode": {
    "name": "ipython",
    "version": 3
   },
   "file_extension": ".py",
   "mimetype": "text/x-python",
   "name": "python",
   "nbconvert_exporter": "python",
   "pygments_lexer": "ipython3",
   "version": "3.6.9"
  }
 },
 "nbformat": 4,
 "nbformat_minor": 5
}
