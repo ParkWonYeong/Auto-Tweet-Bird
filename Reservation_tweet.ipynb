{
 "cells": [
  {
   "cell_type": "code",
   "execution_count": null,
   "id": "9d1495be",
   "metadata": {},
   "outputs": [],
   "source": [
    "import tweepy\n",
    "from time import sleep\n",
    "from access import * #import Twitter API from access.py\n",
    "from googlesheet_Reservation import * #call googlesheet\n",
    "import schedule\n",
    "import time\n",
    "\n",
    "def job():\n",
    "    ## call particular sheet ##\n",
    "    cell_data = worksheet.acell('C3').value # select Excel sheet Written Tweet\n",
    "    print(cell_data)\n",
    "    api.update_status(cell_data)\n",
    "\n",
    "schedule.every().day.at(\"18:19\").do(job) #time    \n",
    "# schedule.every(5).seconds.do(job)\n",
    "    \n",
    "while True:\n",
    "    schedule.run_pending()\n",
    "    time.sleep(1)"
   ]
  }
 ],
 "metadata": {
  "kernelspec": {
   "display_name": "Python 3",
   "language": "python",
   "name": "python3"
  },
  "language_info": {
   "codemirror_mode": {
    "name": "ipython",
    "version": 3
   },
   "file_extension": ".py",
   "mimetype": "text/x-python",
   "name": "python",
   "nbconvert_exporter": "python",
   "pygments_lexer": "ipython3",
   "version": "3.6.9"
  }
 },
 "nbformat": 4,
 "nbformat_minor": 5
}
