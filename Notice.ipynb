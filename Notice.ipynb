{
 "cells": [
  {
   "cell_type": "code",
   "execution_count": null,
   "id": "8a700000",
   "metadata": {
    "scrolled": true
   },
   "outputs": [],
   "source": [
    "import tweepy\n",
    "from time import sleep\n",
    "from access import * #import Twitter API from access.py\n",
    "from googlesheet_Notice import * #call googlesheet\n",
    "\n",
    "sleep_on_rate_limit=False \n",
    "SLEEP_TIME = 40\n",
    "\n",
    "## cal particural sheet information ##\n",
    "column_data = worksheet.col_values(3)[2:]\n",
    "print(column_data)\n",
    "\n",
    "for line in column_data:\n",
    "# for select error flag, add try/except.\n",
    "    try:\n",
    "        print(line)\n",
    "        if line != '\\n':\n",
    "            api.update_status(line)\n",
    "        else:\n",
    "            pass\n",
    "    except tweepy.TweepError as e:\n",
    "        print(e.reason)\n",
    "    sleep(SLEEP_TIME)"
   ]
  }
 ],
 "metadata": {
  "kernelspec": {
   "display_name": "Python 3",
   "language": "python",
   "name": "python3"
  },
  "language_info": {
   "codemirror_mode": {
    "name": "ipython",
    "version": 3
   },
   "file_extension": ".py",
   "mimetype": "text/x-python",
   "name": "python",
   "nbconvert_exporter": "python",
   "pygments_lexer": "ipython3",
   "version": "3.6.9"
  }
 },
 "nbformat": 4,
 "nbformat_minor": 5
}
