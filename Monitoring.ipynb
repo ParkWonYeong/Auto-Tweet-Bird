{
 "cells": [
  {
   "cell_type": "code",
   "execution_count": null,
   "id": "9e43feec",
   "metadata": {},
   "outputs": [],
   "source": [
    "## It was written for search my account's latest tweet ##\n",
    "\n",
    "import tweepy\n",
    "from datetime import timedelta\n",
    "from access import * #import Twitter API from access.py\n",
    "from urllib.parse import scheme_chars\n",
    "from twython import Twython\n",
    "\n",
    "username = 'Write your username'\n",
    "\n",
    "tweet_list= api.user_timeline(tweet_mode=\"extended\") # Get the last tweet\n",
    "\n",
    "# By default api.user_timeline() gets the last 20 tweets, but you can specify it\n",
    "# with the count parameter\n",
    "\n",
    "tweet= tweet_list[0] # An object of class Status (tweepy.models.Status)\n",
    "\n",
    "written_time = tweet.created_at + timedelta(hours=9)\n",
    "print(written_time) # Print the datetime object for the tweet / Latest Tweet's time record\n",
    "print(tweet.full_text) # Print the text of the latest tweet\n",
    "\n",
    "print(tweet.in_reply_to_screen_name) # Print the username of the user the \n",
    "# the tweet is replying to, it is \"None\" if the tweet is not a reply"
   ]
  }
 ],
 "metadata": {
  "kernelspec": {
   "display_name": "Python 3",
   "language": "python",
   "name": "python3"
  },
  "language_info": {
   "codemirror_mode": {
    "name": "ipython",
    "version": 3
   },
   "file_extension": ".py",
   "mimetype": "text/x-python",
   "name": "python",
   "nbconvert_exporter": "python",
   "pygments_lexer": "ipython3",
   "version": "3.6.9"
  }
 },
 "nbformat": 4,
 "nbformat_minor": 5
}
